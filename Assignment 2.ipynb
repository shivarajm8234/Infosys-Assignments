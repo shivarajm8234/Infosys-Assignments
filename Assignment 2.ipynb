{
 "cells": [
  {
   "cell_type": "code",
   "execution_count": 23,
   "metadata": {
    "scrolled": true
   },
   "outputs": [
    {
     "name": "stdout",
     "output_type": "stream",
     "text": [
      "Requirement already satisfied: selenium in /home/ayanokoji/anaconda3/lib/python3.12/site-packages (4.27.1)\n",
      "Requirement already satisfied: urllib3<3,>=1.26 in /home/ayanokoji/anaconda3/lib/python3.12/site-packages (from urllib3[socks]<3,>=1.26->selenium) (2.2.3)\n",
      "Requirement already satisfied: trio~=0.17 in /home/ayanokoji/anaconda3/lib/python3.12/site-packages (from selenium) (0.27.0)\n",
      "Requirement already satisfied: trio-websocket~=0.9 in /home/ayanokoji/anaconda3/lib/python3.12/site-packages (from selenium) (0.11.1)\n",
      "Requirement already satisfied: certifi>=2021.10.8 in /home/ayanokoji/anaconda3/lib/python3.12/site-packages (from selenium) (2024.8.30)\n",
      "Requirement already satisfied: typing_extensions~=4.9 in /home/ayanokoji/.local/lib/python3.12/site-packages (from selenium) (4.12.2)\n",
      "Requirement already satisfied: websocket-client~=1.8 in /home/ayanokoji/anaconda3/lib/python3.12/site-packages (from selenium) (1.8.0)\n",
      "Requirement already satisfied: attrs>=23.2.0 in /home/ayanokoji/anaconda3/lib/python3.12/site-packages (from trio~=0.17->selenium) (24.3.0)\n",
      "Requirement already satisfied: sortedcontainers in /home/ayanokoji/anaconda3/lib/python3.12/site-packages (from trio~=0.17->selenium) (2.4.0)\n",
      "Requirement already satisfied: idna in /home/ayanokoji/anaconda3/lib/python3.12/site-packages (from trio~=0.17->selenium) (3.7)\n",
      "Requirement already satisfied: outcome in /home/ayanokoji/anaconda3/lib/python3.12/site-packages (from trio~=0.17->selenium) (1.3.0.post0)\n",
      "Requirement already satisfied: sniffio>=1.3.0 in /home/ayanokoji/anaconda3/lib/python3.12/site-packages (from trio~=0.17->selenium) (1.3.0)\n",
      "Requirement already satisfied: wsproto>=0.14 in /home/ayanokoji/anaconda3/lib/python3.12/site-packages (from trio-websocket~=0.9->selenium) (1.2.0)\n",
      "Requirement already satisfied: pysocks!=1.5.7,<2.0,>=1.5.6 in /home/ayanokoji/anaconda3/lib/python3.12/site-packages (from urllib3[socks]<3,>=1.26->selenium) (1.7.1)\n",
      "Requirement already satisfied: h11<1,>=0.9.0 in /home/ayanokoji/anaconda3/lib/python3.12/site-packages (from wsproto>=0.14->trio-websocket~=0.9->selenium) (0.14.0)\n",
      "Note: you may need to restart the kernel to use updated packages.\n"
     ]
    }
   ],
   "source": [
    "pip install selenium"
   ]
  },
  {
   "cell_type": "code",
   "execution_count": 26,
   "metadata": {},
   "outputs": [],
   "source": [
    "from selenium import webdriver\n",
    "from selenium.webdriver.common.by import By\n",
    "import time\n",
    "import os\n",
    "from selenium.webdriver.edge.service import Service\n",
    "from selenium.webdriver.edge.options import Options\n",
    "from selenium.webdriver.support.ui import WebDriverWait\n",
    "from selenium.webdriver.support import expected_conditions as EC\n",
    "\n",
    "# Set up options for headless mode\n",
    "options = Options()\n",
    "options.add_argument(\"--headless\")  # Run in headless mode\n",
    "options.add_argument(\"--disable-gpu\")\n",
    "options.add_argument(\"--no-sandbox\")\n",
    "\n",
    "# Correct initialization of Edge WebDriver using Service\n",
    "driver_path = \"/usr/local/bin/msedgedriver\"  # Path to your msedgedriver\n",
    "service = Service(driver_path)\n",
    "driver = webdriver.Edge(service=service, options=options)\n",
    "\n",
    "# Create a directory to save screenshots\n",
    "output_dir = \"screenshots\"\n",
    "os.makedirs(output_dir, exist_ok=True)\n",
    "\n",
    "try:\n",
    "    # Step 1: Open YouTube Music\n",
    "    driver.get(\"https://music.youtube.com/\")\n",
    "    WebDriverWait(driver, 10).until(EC.presence_of_element_located((By.XPATH, \"//*[@id='items-wrapper']\")))\n",
    "    time.sleep(2)  # Allow the page to load\n",
    "    driver.save_screenshot(os.path.join(output_dir, \"step1_open_youtube_music.png\"))\n",
    "\n",
    "    # Step 2: Directly click on the fifth song in the results\n",
    "    WebDriverWait(driver, 10).until(EC.presence_of_element_located((By.XPATH, \"//*[@id='items']/ytmusic-responsive-list-item-renderer[5]\")))\n",
    "    fifth_result = driver.find_element(By.XPATH, \"//*[@id='items']/ytmusic-responsive-list-item-renderer[5]\")\n",
    "    fifth_result.click()\n",
    "\n",
    "    # Step 3: Wait for the player to appear and song to start playing\n",
    "    WebDriverWait(driver, 10).until(EC.presence_of_element_located((By.XPATH, \"//ytmusic-player-bar\")))\n",
    "    time.sleep(5)  # Allow the song to start playing\n",
    "    driver.save_screenshot(os.path.join(output_dir, \"step3_play_fifth_result.png\"))\n",
    "\n",
    "    # Step 4: Confirm that the song is playing and take the final screenshot\n",
    "    WebDriverWait(driver, 10).until(EC.presence_of_element_located((By.XPATH, \"//ytmusic-player-bar\")))\n",
    "    driver.save_screenshot(os.path.join(output_dir, \"step4_final_song_playing.png\"))\n",
    "\n",
    "    # Wait for the song to play for a while\n",
    "    time.sleep(10)\n",
    "\n",
    "except Exception as e:\n",
    "    print(f\"Error: {e}\")\n",
    "    driver.save_screenshot(os.path.join(output_dir, \"error_occurred.png\"))\n",
    "finally:\n",
    "    # Step 5: Quit the browser\n",
    "    driver.save_screenshot(os.path.join(output_dir, \"final_step_before_quit.png\"))\n",
    "    time.sleep(2)  # Adjust time to let the song play a bit longer if needed\n",
    "    driver.quit()  # Properly quit the browser\n"
   ]
  },
  {
   "cell_type": "code",
   "execution_count": 25,
   "metadata": {},
   "outputs": [
    {
     "name": "stdout",
     "output_type": "stream",
     "text": [
      "e\n"
     ]
    }
   ],
   "source": [
    "print(\"e\")"
   ]
  }
 ],
 "metadata": {
  "kernelspec": {
   "display_name": "Python 3 (ipykernel)",
   "language": "python",
   "name": "python3"
  },
  "language_info": {
   "codemirror_mode": {
    "name": "ipython",
    "version": 3
   },
   "file_extension": ".py",
   "mimetype": "text/x-python",
   "name": "python",
   "nbconvert_exporter": "python",
   "pygments_lexer": "ipython3",
   "version": "3.12.7"
  }
 },
 "nbformat": 4,
 "nbformat_minor": 4
}
