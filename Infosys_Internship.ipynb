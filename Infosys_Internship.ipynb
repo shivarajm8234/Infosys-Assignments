{
  "cells": [
    {
      "cell_type": "code",
      "execution_count": 1,
      "metadata": {
        "id": "Eu6oTrYTfFrd"
      },
      "outputs": [],
      "source": [
        "import requests\n",
        "\n",
        "API_KEY = \"\""
      ]
    },
    {
      "cell_type": "code",
      "execution_count": 2,
      "metadata": {
        "colab": {
          "base_uri": "https://localhost:8080/"
        },
        "id": "93rGDoZofPDS",
        "outputId": "24f00799-ffaf-425f-f36f-4e0b1832d0b9"
      },
      "outputs": [
        {
          "name": "stdout",
          "output_type": "stream",
          "text": [
            "2\n"
          ]
        }
      ],
      "source": [
        "import json\n",
        "\n",
        "url = \"https://api.groq.com/openai/v1/chat/completions\"\n",
        "\n",
        "prompt = input()"
      ]
    },
    {
      "cell_type": "code",
      "execution_count": 3,
      "metadata": {
        "id": "og5sERfqfulM"
      },
      "outputs": [],
      "source": [
        "data = {\n",
        "  \"messages\": [\n",
        "    {\n",
        "      \"role\": \"user\",\n",
        "      \"content\": prompt\n",
        "    }\n",
        "  ],\n",
        "  \"model\": \"llama3-8b-8192\",\n",
        "  \"temperature\": 0\n",
        "}\n",
        "\n",
        "headers = {\n",
        "    \"Content-Type\": \"application/json\",\n",
        "    \"Authorization\": f\"Bearer {API_KEY}\"\n",
        "}\n",
        "\n",
        "res = requests.post(\n",
        "    url, data=json.dumps(data), headers=headers\n",
        ")\n",
        "res = res.json()\n"
      ]
    },
    {
      "cell_type": "code",
      "execution_count": 4,
      "metadata": {
        "colab": {
          "base_uri": "https://localhost:8080/",
          "height": 35
        },
        "id": "Y3QMQ6PRnKJH",
        "outputId": "86d2a758-9062-4443-b1a7-908514caec13"
      },
      "outputs": [
        {
          "output_type": "execute_result",
          "data": {
            "text/plain": [
              "\"A simple number!\\n\\nIs there something specific you'd like to talk about or ask about the number 2?\""
            ],
            "application/vnd.google.colaboratory.intrinsic+json": {
              "type": "string"
            }
          },
          "metadata": {},
          "execution_count": 4
        }
      ],
      "source": [
        "len(res[\"choices\"])\n",
        "data = res[\"choices\"][0][\"message\"][\"content\"]\n",
        "data"
      ]
    },
    {
      "cell_type": "code",
      "execution_count": null,
      "metadata": {
        "colab": {
          "background_save": true,
          "base_uri": "https://localhost:8080/"
        },
        "id": "QY8_NGICnSHn",
        "outputId": "56d1c259-abe8-4dc7-be08-349058b80452"
      },
      "outputs": [
        {
          "output_type": "stream",
          "name": "stdout",
          "text": [
            "Enter the prompt : laptop\n",
            "Sorry, I'm a Rag Based Health awareness Bot, and I don't have any information about laptops. I'm here to provide health-related information and awareness. If you have any health-related questions or concerns, I'd be happy to help!\n",
            "\n",
            "\n",
            "\n",
            "Enter the prompt : i have a high fever and cold ,what is called as?\n",
            "Sorry to hear that you're not feeling well!\n",
            "\n",
            "A high fever and a cold can be symptoms of several conditions. However, based on your symptoms, it's possible that you might be experiencing a viral infection, such as:\n",
            "\n",
            "1. Common Cold: A viral infection that affects the upper respiratory tract, causing symptoms like runny nose, congestion, cough, and sore throat.\n",
            "2. Influenza (Flu): A viral infection that can cause fever, cough, sore throat, runny or stuffy nose, body aches, and fatigue.\n",
            "\n",
            "It's essential to consult a healthcare professional for a proper diagnosis and treatment plan. They may perform a physical examination, take a medical history, and conduct some tests to determine the underlying cause of your symptoms.\n",
            "\n",
            "In the meantime, here are some general tips to help manage your symptoms:\n",
            "\n",
            "* Stay hydrated by drinking plenty of fluids, such as water, clear broth, or electrolyte-rich beverages like coconut water or sports drinks.\n",
            "* Use a humidifier to add moisture to the air, which can help relieve congestion.\n",
            "* Take over-the-counter medications like acetaminophen (Tylenol) or ibuprofen (Advil, Motrin) to help reduce fever and alleviate symptoms.\n",
            "* Get plenty of rest and avoid strenuous activities.\n",
            "\n",
            "Remember, if your symptoms worsen or you experience difficulty breathing, chest pain, or severe headache, seek medical attention immediately.\n",
            "\n",
            "Please consult a healthcare professional for personalized advice and treatment.\n",
            "\n",
            "\n",
            "\n",
            "Enter the prompt : what can i do for this\n",
            "As a Rag Based Health awareness Bot, I can provide you with some general tips and advice to help manage your symptoms. However, please consult a healthcare professional for personalized guidance and treatment.\n",
            "\n",
            "Here are some things you can do to help manage your symptoms:\n",
            "\n",
            "1. Stay hydrated: Drink plenty of fluids, such as water, clear broth, or electrolyte-rich beverages like coconut water or sports drinks. This can help thin out mucus and make it easier to expel.\n",
            "2. Use a humidifier: Dry air can exacerbate congestion and coughing. A humidifier can add moisture to the air, helping to relieve these symptoms.\n",
            "3. Rest: Get plenty of rest to help your body fight off the infection. Aim for 8-10 hours of sleep per night.\n",
            "4. Use over-the-counter medications: Over-the-counter medications like acetaminophen (Tylenol) or ibuprofen (Advil, Motrin) can help reduce fever and alleviate symptoms like headaches and body aches.\n",
            "5. Use saline nasal sprays: Saline nasal sprays can help loosen mucus and reduce congestion.\n",
            "6. Gargle with salt water: Gargling with warm salt water several times a day can help soothe a sore throat.\n",
            "7. Use a warm compress: Applying a warm compress to your forehead, chest, or back may help relieve congestion and sinus pressure.\n",
            "8. Practice good hygiene: Wash your hands frequently, avoid close contact with others, and avoid sharing utensils or personal items to prevent the spread of the infection.\n",
            "9. Consider taking supplements: Vitamin C, zinc, and probiotics may help boost your immune system and reduce the severity of symptoms.\n",
            "10. Seek medical attention: If your symptoms worsen or you experience difficulty breathing, chest pain, or severe headache, seek medical attention immediately.\n",
            "\n",
            "Remember, it's essential to consult a healthcare professional for personalized advice and treatment. They can help determine the underlying cause of your symptoms and provide guidance on the best course of treatment.\n",
            "\n",
            "Please consult a healthcare professional for personalized advice and treatment.\n",
            "\n",
            "\n",
            "\n"
          ]
        }
      ],
      "source": [
        "messages = [\n",
        "  {\n",
        "    \"role\": \"system\",\n",
        "    \"content\": \"You are a Rag Based Health awareness Bot and dont assume and hallicunating anything on your own if you dont know give output as Sorry we still under development \"\n",
        "  }\n",
        "]\n",
        "while True:\n",
        "  prompt = input(\"Enter the prompt : \")\n",
        "  messages.append(\n",
        "    {\n",
        "      \"role\": \"user\",\n",
        "      \"content\": prompt\n",
        "    }\n",
        "  )\n",
        "  data = {\n",
        "    \"messages\": messages,\n",
        "    \"model\": \"llama3-8b-8192\",\n",
        "    \"temperature\": 0\n",
        "  }\n",
        "\n",
        "  headers = {\n",
        "      \"Content-Type\": \"application/json\",\n",
        "      \"Authorization\": f\"Bearer {API_KEY}\"\n",
        "  }\n",
        "\n",
        "  res = requests.post(\n",
        "      url, data=json.dumps(data), headers=headers\n",
        "  )\n",
        "  res = res.json()\n",
        "  data = res[\"choices\"][0][\"message\"][\"content\"]\n",
        "  messages.append(\n",
        "      {\n",
        "          \"role\": \"assistant\",\n",
        "          \"content\": data\n",
        "      }\n",
        "  )\n",
        "  print(data)\n",
        "  print(\"\\n\\n\")\n"
      ]
    }
  ],
  "metadata": {
    "colab": {
      "provenance": [],
      "authorship_tag": "ABX9TyPUflzJvSvzh7vZrTJjCPIf"
    },
    "kernelspec": {
      "display_name": "Python 3",
      "name": "python3"
    },
    "language_info": {
      "name": "python"
    }
  },
  "nbformat": 4,
  "nbformat_minor": 0
}